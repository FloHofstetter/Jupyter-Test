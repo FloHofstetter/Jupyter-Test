{
 "cells": [
  {
   "cell_type": "code",
   "execution_count": 1,
   "metadata": {},
   "outputs": [],
   "source": [
    "import numpy as np\n",
    "import matplotlib.pyplot as  plt\n",
    "from matplotlib import animation, rc\n",
    "import IPython.display"
   ]
  },
  {
   "cell_type": "code",
   "execution_count": 2,
   "metadata": {},
   "outputs": [],
   "source": [
    "IPython.display.set_matplotlib_formats('pdf', 'svg')\n",
    "plt.ioff()  # Turn off interactive plotting"
   ]
  },
  {
   "cell_type": "code",
   "execution_count": 3,
   "metadata": {},
   "outputs": [
    {
     "data": {
      "text/html": [
       "<img src=\"01_Animation.gif\" style=height:300px;>"
      ],
      "text/plain": [
       "<IPython.core.display.HTML object>"
      ]
     },
     "execution_count": 3,
     "metadata": {},
     "output_type": "execute_result"
    }
   ],
   "source": [
    "AMPLITUDE = 1.5\n",
    "FREQUENZ = 3.0\n",
    "\n",
    "fig, ax = plt.subplots()\n",
    "\n",
    "ax.set_title(\"Sinus Funktion\")\n",
    "ax.set_xlim(( 0, 1))\n",
    "ax.set_ylim((-2, 2))\n",
    "ax.grid(True)\n",
    "\n",
    "line, = ax.plot([], [], lw=1)\n",
    "line2, = ax.plot(0, 0, 'x')\n",
    "def init():\n",
    "    line.set_data([], [])\n",
    "    return (line,)\n",
    "def animate(i):\n",
    "    x = np.linspace(0, 1, 3000)\n",
    "    y = np.sin(FREQUENZ * 2 * np.pi * (x - 0.01 * i))\n",
    "    line.set_data(x, y)\n",
    "    x2 = 0.01 * i\n",
    "    y2 = 0\n",
    "    line2.set_data(x2, y2)\n",
    "    return (line,)\n",
    "anim = animation.FuncAnimation(fig, animate, init_func=init,\n",
    "                               frames=100, interval=20, blit=True)\n",
    "gif_animation_name = \"01_Animation.gif\"\n",
    "anim.save(f\"{gif_animation_name}\", writer='pillow', fps=30, dpi=300)\n",
    "IPython.display.HTML(f'<img src=\"{gif_animation_name}\" style=height:300px;>')"
   ]
  },
  {
   "cell_type": "code",
   "execution_count": null,
   "metadata": {},
   "outputs": [],
   "source": []
  }
 ],
 "metadata": {
  "kernelspec": {
   "display_name": "Python 3",
   "language": "python",
   "name": "python3"
  },
  "language_info": {
   "codemirror_mode": {
    "name": "ipython",
    "version": 3
   },
   "file_extension": ".py",
   "mimetype": "text/x-python",
   "name": "python",
   "nbconvert_exporter": "python",
   "pygments_lexer": "ipython3",
   "version": "3.8.5"
  }
 },
 "nbformat": 4,
 "nbformat_minor": 4
}
